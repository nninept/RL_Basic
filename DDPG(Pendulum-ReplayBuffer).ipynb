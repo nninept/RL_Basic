{
 "cells": [
  {
   "cell_type": "code",
   "execution_count": 1,
   "metadata": {},
   "outputs": [
    {
     "data": {
      "text/plain": [
       "device(type='cuda')"
      ]
     },
     "execution_count": 1,
     "metadata": {},
     "output_type": "execute_result"
    }
   ],
   "source": [
    "import gym\n",
    "import math\n",
    "import collections\n",
    "import random\n",
    "import torch\n",
    "from torch.autograd import Variable\n",
    "import torch.nn as nn\n",
    "import torch.nn.functional as F\n",
    "import torch.optim as optim\n",
    "import numpy as np\n",
    "device = torch.device('cuda' if torch.cuda.is_available() else 'cpu')\n",
    "device"
   ]
  },
  {
   "cell_type": "code",
   "execution_count": 2,
   "metadata": {},
   "outputs": [],
   "source": [
    "class ReplayBuffer():\n",
    "    def __init__(self):\n",
    "        self.buffer = collections.deque(maxlen = 5000)\n",
    "        self.minibatch_size = 64\n",
    "\n",
    "    def append(self, state, action, reward, next_state, terminal):\n",
    "        self.buffer.append([state, action, reward, next_state, terminal])\n",
    "\n",
    "    def sample(self):\n",
    "        mini_batch = random.sample(self.buffer, self.minibatch_size)\n",
    "        # mini_batch.append(self.buffer[-1])\n",
    "        s_lst, action, r_lst, s_prime_lst, done_mask_lst = map(list, zip(*mini_batch))\n",
    "        return torch.FloatTensor(s_lst).to(device), torch.FloatTensor(action).to(device), torch.FloatTensor(r_lst).to(device), \\\n",
    "                torch.FloatTensor(s_prime_lst).to(device), torch.FloatTensor(done_mask_lst).to(device)\n",
    "    \n",
    "    def size(self):\n",
    "        return len(self.buffer)"
   ]
  },
  {
   "cell_type": "code",
   "execution_count": 3,
   "metadata": {},
   "outputs": [],
   "source": [
    "class Actor(nn.Module):\n",
    "    def __init__(self):\n",
    "        super(Actor, self).__init__()\n",
    "        self.actionNetwork = nn.Sequential(\n",
    "            nn.Linear(3, 256),\n",
    "            nn.ReLU(),\n",
    "            nn.Linear(256, 256),\n",
    "            nn.ReLU(),\n",
    "            nn.Linear(256, 128),\n",
    "            nn.ReLU(),\n",
    "            nn.Linear(128,1)\n",
    "        ).to(device)\n",
    "        \n",
    "    def forward(self, state):\n",
    "        return torch.sigmoid(self.actionNetwork(state)) * 2\n",
    "    \n",
    "\n",
    "class Critic(nn.Module):\n",
    "    def __init__(self):\n",
    "        super(Critic, self).__init__()\n",
    "        self.valueNetwork = nn.Sequential(\n",
    "            nn.Linear(3+1, 256),\n",
    "            nn.ReLU(),\n",
    "            nn.Linear(256, 256),\n",
    "            nn.ReLU(),\n",
    "            nn.Linear(256, 128),\n",
    "            nn.ReLU(),\n",
    "            nn.Linear(128,1)\n",
    "        ).to(device)\n",
    "        \n",
    "    def forward(self, state, action):\n",
    "        state = state.view(-1,state.shape[-1])\n",
    "        action = action.view(-1,action.shape[-1])\n",
    "        return self.valueNetwork(torch.cat([state, action], dim = -1))\n",
    "\n",
    "\n",
    "\n",
    "class DDPG():\n",
    "    def __init__(self):\n",
    "        super(DDPG, self).__init__()\n",
    "        self.actor = Actor()\n",
    "        self.actor_target = Actor()\n",
    "        self.critic = Critic()\n",
    "        self.critic_target = Critic()\n",
    "        self.critic_target.load_state_dict(self.critic.state_dict())\n",
    "        self.actor_target.load_state_dict(self.actor.state_dict())\n",
    "        \n",
    "        self.actionOptimizer = optim.Adam(self.actor.parameters(), lr = 0.001)\n",
    "        self.valueOptimizer = optim.Adam(self.critic.parameters(), lr = 0.001)\n",
    "        self.criticLoss = F.smooth_l1_loss\n",
    "        self.env = gym.make('Pendulum-v1')\n",
    "        self.replay_buffer = ReplayBuffer()\n",
    "        self.tau = 0.001\n",
    "        self.gamma = 0.9\n",
    "        self.num_replay = 15\n",
    "        self.reward = 0\n",
    "        self.count = 0\n",
    "        self.last_state = None\n",
    "        self.last_action = None\n",
    "        self.flag = False\n",
    "        print(\"action space : \",self.env.action_space.shape)\n",
    "        \n",
    "    def train(self, epi):\n",
    "        self.last_state = self.env.reset()\n",
    "        \n",
    "        \n",
    "        while True:\n",
    "            self.env.render()\n",
    "            action = self.actor(torch.FloatTensor(self.last_state).to(device))\n",
    "            state, reward, done, _= self.env.step(action.detach().cpu().numpy())\n",
    "            self.count += 1\n",
    "            self.reward += reward\n",
    "            \n",
    "            self.replay_buffer.append(self.last_state, action.detach().cpu().numpy(), reward, state, done)\n",
    "            if self.replay_buffer.size()>self.replay_buffer.minibatch_size:\n",
    "                for _ in range(self.num_replay):\n",
    "                    self.optimize_network()\n",
    "\n",
    "            if done:\n",
    "                print(f'Epi : {epi}   Avg reward : {self.reward/self.count}')\n",
    "                break\n",
    "            self.last_state = state\n",
    "        torch.cuda.empty_cache()\n",
    "        self.env.close()\n",
    "        \n",
    "            \n",
    "    def soft_update(self, local_model, target_model, tau):\n",
    "        for target_param, local_param in zip(target_model.parameters(), local_model.parameters()):\n",
    "            target_param.data.copy_(tau*local_param.data + (1.0-tau)*target_param.data)\n",
    "            \n",
    "    def optimize_network(self):\n",
    "        states, actions, rewards, next_states, terminals = self.replay_buffer.sample()\n",
    "        q_next_mat = self.critic_target(next_states, self.actor_target(next_states)).view(-1)\n",
    "        targetQ = rewards + q_next_mat*(1-terminals)*self.gamma\n",
    "    \n",
    "        self.valueOptimizer.zero_grad()\n",
    "        q_mat = self.critic(states, actions).view(-1)\n",
    "        valueLoss = self.criticLoss(q_mat,targetQ)\n",
    "        valueLoss.backward()\n",
    "        self.valueOptimizer.step()\n",
    "        \n",
    "        self.actionOptimizer.zero_grad()\n",
    "        q_mat = self.critic(states, self.actor(states)).view(-1)\n",
    "        actionLoss = (-q_mat.mean()).backward()\n",
    "        self.actionOptimizer.step()\n",
    "        \n",
    "        self.soft_update(self.critic, self.critic_target, self.tau)\n",
    "        self.soft_update(self.actor, self.actor_target, self.tau)\n"
   ]
  },
  {
   "cell_type": "code",
   "execution_count": 4,
   "metadata": {
    "scrolled": true
   },
   "outputs": [
    {
     "ename": "",
     "evalue": "",
     "output_type": "error",
     "traceback": [
      "\u001b[1;31mCanceled future for execute_request message before replies were done"
     ]
    },
    {
     "ename": "",
     "evalue": "",
     "output_type": "error",
     "traceback": [
      "\u001b[1;31mThe Kernel crashed while executing code in the the current cell or a previous cell. Please review the code in the cell(s) to identify a possible cause of the failure. Click <a href='https://aka.ms/vscodeJupyterKernelCrash'>here</a> for more info. View Jupyter <a href='command:jupyter.viewOutput'>log</a> for further details."
     ]
    }
   ],
   "source": [
    "model = DDPG()\n",
    "\n",
    "for epi in range(100):\n",
    "    model.train(epi)\n"
   ]
  },
  {
   "cell_type": "code",
   "execution_count": null,
   "metadata": {},
   "outputs": [],
   "source": []
  }
 ],
 "metadata": {
  "kernelspec": {
   "display_name": "pytorch",
   "language": "python",
   "name": "python3"
  },
  "language_info": {
   "codemirror_mode": {
    "name": "ipython",
    "version": 3
   },
   "file_extension": ".py",
   "mimetype": "text/x-python",
   "name": "python",
   "nbconvert_exporter": "python",
   "pygments_lexer": "ipython3",
   "version": "3.7.11"
  },
  "vscode": {
   "interpreter": {
    "hash": "7c6074535f291ad3d914eaf03018f7d68d848306b2b145ecd8dbc28bc0a92498"
   }
  }
 },
 "nbformat": 4,
 "nbformat_minor": 4
}
